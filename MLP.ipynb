{
 "cells": [
  {
   "cell_type": "markdown",
   "id": "2ca2ebdd",
   "metadata": {},
   "source": [
    "# __*MULTILAYER PERCEPTRON*__"
   ]
  },
  {
   "cell_type": "markdown",
   "id": "017f5c98",
   "metadata": {},
   "source": [
    "## __*IMPORT LIBRARIES*__"
   ]
  },
  {
   "cell_type": "code",
   "execution_count": 1,
   "id": "635ff58f",
   "metadata": {},
   "outputs": [],
   "source": [
    "import torch\n",
    "import torch.nn as nn\n",
    "import torch.optim as optim\n",
    "from sklearn.model_selection import train_test_split\n",
    "from sklearn.preprocessing import StandardScaler\n",
    "import pandas as pd\n",
    "import numpy as np\n",
    "from sklearn.metrics import r2_score\n",
    "from sklearn.model_selection import KFold\n",
    "from skorch import NeuralNetRegressor\n",
    "from sklearn.model_selection import GridSearchCV\n",
    "from sklearn.pipeline import Pipeline"
   ]
  },
  {
   "cell_type": "code",
   "execution_count": 2,
   "id": "c60d6923",
   "metadata": {},
   "outputs": [
    {
     "data": {
      "text/html": [
       "<div>\n",
       "<style scoped>\n",
       "    .dataframe tbody tr th:only-of-type {\n",
       "        vertical-align: middle;\n",
       "    }\n",
       "\n",
       "    .dataframe tbody tr th {\n",
       "        vertical-align: top;\n",
       "    }\n",
       "\n",
       "    .dataframe thead th {\n",
       "        text-align: right;\n",
       "    }\n",
       "</style>\n",
       "<table border=\"1\" class=\"dataframe\">\n",
       "  <thead>\n",
       "    <tr style=\"text-align: right;\">\n",
       "      <th></th>\n",
       "      <th>vo2max</th>\n",
       "      <th>weeklyKM</th>\n",
       "    </tr>\n",
       "  </thead>\n",
       "  <tbody>\n",
       "    <tr>\n",
       "      <th>0</th>\n",
       "      <td>59.7</td>\n",
       "      <td>65.0</td>\n",
       "    </tr>\n",
       "    <tr>\n",
       "      <th>1</th>\n",
       "      <td>46.7</td>\n",
       "      <td>110.0</td>\n",
       "    </tr>\n",
       "    <tr>\n",
       "      <th>2</th>\n",
       "      <td>62.0</td>\n",
       "      <td>90.0</td>\n",
       "    </tr>\n",
       "    <tr>\n",
       "      <th>3</th>\n",
       "      <td>61.9</td>\n",
       "      <td>65.0</td>\n",
       "    </tr>\n",
       "    <tr>\n",
       "      <th>4</th>\n",
       "      <td>50.2</td>\n",
       "      <td>12.5</td>\n",
       "    </tr>\n",
       "  </tbody>\n",
       "</table>\n",
       "</div>"
      ],
      "text/plain": [
       "   vo2max  weeklyKM\n",
       "0    59.7      65.0\n",
       "1    46.7     110.0\n",
       "2    62.0      90.0\n",
       "3    61.9      65.0\n",
       "4    50.2      12.5"
      ]
     },
     "execution_count": 2,
     "metadata": {},
     "output_type": "execute_result"
    }
   ],
   "source": [
    "data = pd.read_csv('cleaned_data.csv')\n",
    "data = data.dropna(subset=['marathon_time_in_minutes']) # NOTE: dropping NaN in marathon times \n",
    "X = data[['marathon_time_in_minutes', 'height', 'age', 'HRmax', 'days', 'weight']]\n",
    "y = data[['vo2max', 'weeklyKM']]\n",
    "y.head()"
   ]
  },
  {
   "cell_type": "code",
   "execution_count": 3,
   "id": "30e28822",
   "metadata": {},
   "outputs": [],
   "source": [
    "# NOTE split is 70-10-20\n",
    "def splitting(X,y,seed):\n",
    "\n",
    "    X_temp, X_test, y_temp, y_test = train_test_split(X, y, test_size=0.2, random_state=seed)\n",
    "    X_train, X_val, y_train, y_val = train_test_split(X_temp, y_temp, test_size=0.125, random_state=seed)\n",
    "\n",
    "    x_scaler = StandardScaler()\n",
    "    y_scaler = StandardScaler()\n",
    "\n",
    "    X_train_scaled = x_scaler.fit_transform(X_train)\n",
    "    X_val_scaled = x_scaler.transform(X_val)\n",
    "    X_test_scaled = x_scaler.transform(X_test)\n",
    "\n",
    "    y_train_scaled = y_scaler.fit_transform(y_train)\n",
    "    y_val_scaled = y_scaler.transform(y_val)\n",
    "    y_test_scaled = y_scaler.transform(y_test)\n",
    "\n",
    "    X_train_tensor = torch.tensor(X_train_scaled, dtype=torch.float32)\n",
    "    y_train_tensor = torch.tensor(y_train_scaled, dtype=torch.float32)\n",
    "\n",
    "    X_val_tensor = torch.tensor(X_val_scaled, dtype=torch.float32)\n",
    "    y_val_tensor = torch.tensor(y_val_scaled, dtype=torch.float32)\n",
    "\n",
    "    X_test_tensor = torch.tensor(X_test_scaled, dtype=torch.float32)\n",
    "    y_test_tensor = torch.tensor(y_test_scaled, dtype=torch.float32)\n",
    "\n",
    "    return  X_train,y_train,X_test,y_test,X_train_scaled,X_val_scaled,X_test_scaled, y_train_scaled, y_val_scaled, y_test_scaled, X_train_tensor, y_train_tensor, X_val_tensor, y_val_tensor, X_test_tensor, y_test_tensor, y_scaler,x_scaler"
   ]
  },
  {
   "cell_type": "markdown",
   "id": "36612916",
   "metadata": {},
   "source": [
    "## __*DEFINE MODEL*__"
   ]
  },
  {
   "cell_type": "code",
   "execution_count": null,
   "id": "2340480a",
   "metadata": {},
   "outputs": [],
   "source": [
    "class MLP(nn.Module):\n",
    "    def __init__(self,  num_units=64, dropout=0.3):\n",
    "        super().__init__()\n",
    "        self.model = nn.Sequential(\n",
    "            # NOTE : This is the input layer  \n",
    "            nn.Linear(6, num_units),\n",
    "            nn.ReLU(),\n",
    "            nn.Dropout(dropout),\n",
    "            # NOTE : this is the hidden layer\n",
    "            nn.Linear(num_units, num_units // 2),\n",
    "            nn.ReLU(),\n",
    "            # NOTE: this is the output layer\n",
    "            nn.Linear(num_units // 2, 2)\n",
    "        )\n",
    "\n",
    "    def forward(self, x):\n",
    "        return self.model(x)"
   ]
  },
  {
   "cell_type": "markdown",
   "id": "4313ecce",
   "metadata": {},
   "source": [
    "## __*FINE TUNING WITH GRID SEARCH*__"
   ]
  },
  {
   "cell_type": "markdown",
   "id": "fed45a96",
   "metadata": {},
   "source": [
    "Used skorch to exploit gridSearch from scikit learn"
   ]
  },
  {
   "cell_type": "code",
   "execution_count": 12,
   "id": "da7566a6",
   "metadata": {},
   "outputs": [],
   "source": [
    "def tune_parameters(regressor, X_train, y_train):\n",
    "    param_grid = {\n",
    "        'lr': [0.001, 0.01, 0.1],\n",
    "        'max_epochs': [100, 200],\n",
    "        'module__num_units': [32, 64, 128, 256],\n",
    "        'module__dropout': [0.0, 0.1, 0.2, 0.3],  \n",
    "    }\n",
    "\n",
    "    X_train = X_train.astype('float32')\n",
    "    y_train = y_train.astype('float32')\n",
    "    \n",
    "    gs = GridSearchCV(regressor, param_grid, cv=5, scoring='neg_mean_squared_error')\n",
    "    gs.fit(X_train, y_train)\n",
    "\n",
    "    return gs"
   ]
  },
  {
   "cell_type": "code",
   "execution_count": 13,
   "id": "fccf1dfc",
   "metadata": {},
   "outputs": [
    {
     "name": "stdout",
     "output_type": "stream",
     "text": [
      "Best MSE score is : -0.5628836154937744\n",
      "Best params: {'lr': 0.001, 'max_epochs': 100, 'module__dropout': 0.0, 'module__num_units': 32}\n"
     ]
    }
   ],
   "source": [
    "# NOTE : Wrap model into this wrapper to adapt to skorch\n",
    "regressor = NeuralNetRegressor(\n",
    "    module=MLP,\n",
    "    max_epochs=100,\n",
    "    lr=0.01,\n",
    "    optimizer=torch.optim.Adam,\n",
    "    criterion=nn.MSELoss,\n",
    "    iterator_train__shuffle=True,\n",
    "    verbose=0  \n",
    ")\n",
    "\n",
    "X_train,y_train,X_test,y_test,X_train_scaled,X_val_scaled,X_test_scaled, y_train_scaled, y_val_scaled, y_test_scaled, X_train_tensor, y_train_tensor, X_val_tensor, y_val_tensor, X_test_tensor, y_test_tensor, y_scaler,x_scaler= splitting(X,y,42)\n",
    "gs_42 = tune_parameters(regressor,X_train_scaled,y_train_scaled)\n",
    "print(\"Best MSE score is :\", gs_42.best_score_)\n",
    "print(\"Best params:\", gs_42.best_params_)"
   ]
  },
  {
   "cell_type": "code",
   "execution_count": 14,
   "id": "a3c99a22",
   "metadata": {},
   "outputs": [
    {
     "name": "stdout",
     "output_type": "stream",
     "text": [
      "Best MSE score is : -0.5508951663970947\n",
      "Best params: {'lr': 0.001, 'max_epochs': 100, 'module__dropout': 0.0, 'module__num_units': 32}\n"
     ]
    }
   ],
   "source": [
    "# NOTE : Wrap model into this wrapper to adapt to skorch\n",
    "regressor = NeuralNetRegressor(\n",
    "    module=MLP,\n",
    "    max_epochs=200,\n",
    "    lr=0.01,\n",
    "    optimizer=torch.optim.Adam,\n",
    "    criterion=nn.MSELoss,\n",
    "    iterator_train__shuffle=True,\n",
    "    verbose=0  \n",
    ")\n",
    "\n",
    "X_train,y_train,X_test,y_test,X_train_scaled,X_val_scaled,X_test_scaled, y_train_scaled, y_val_scaled, y_test_scaled, X_train_tensor, y_train_tensor, X_val_tensor, y_val_tensor, X_test_tensor, y_test_tensor, y_scaler,x_scaler= splitting(X,y,20)\n",
    "gs_20 = tune_parameters(regressor,X_train_scaled,y_train_scaled)\n",
    "print(\"Best MSE score is :\", gs_20.best_score_)\n",
    "print(\"Best params:\", gs_20.best_params_)"
   ]
  },
  {
   "cell_type": "code",
   "execution_count": 15,
   "id": "f09fcd5d",
   "metadata": {},
   "outputs": [
    {
     "name": "stdout",
     "output_type": "stream",
     "text": [
      "Best MSE score is : -0.5295068681240082\n",
      "Best params: {'lr': 0.001, 'max_epochs': 200, 'module__dropout': 0.3, 'module__num_units': 32}\n"
     ]
    }
   ],
   "source": [
    "# NOTE : Wrap model into this wrapper to adapt to skorch\n",
    "regressor = NeuralNetRegressor(\n",
    "    module=MLP,\n",
    "    max_epochs=100,\n",
    "    lr=0.01,\n",
    "    optimizer=torch.optim.Adam,\n",
    "    criterion=nn.MSELoss,\n",
    "    iterator_train__shuffle=True,\n",
    "    verbose=0  \n",
    ")\n",
    "\n",
    "X_train,y_train,X_test,y_test,X_train_scaled,X_val_scaled,X_test_scaled, y_train_scaled, y_val_scaled, y_test_scaled, X_train_tensor, y_train_tensor, X_val_tensor, y_val_tensor, X_test_tensor, y_test_tensor, y_scaler,x_scaler = splitting(X,y,35)\n",
    "gs_35 = tune_parameters(regressor,X_train_scaled,y_train_scaled)\n",
    "print(\"Best MSE score is :\", gs_35.best_score_)\n",
    "print(\"Best params:\", gs_35.best_params_)"
   ]
  },
  {
   "cell_type": "markdown",
   "id": "b07f067f",
   "metadata": {},
   "source": [
    "## __*TRAIN MODEL*__"
   ]
  },
  {
   "cell_type": "code",
   "execution_count": 17,
   "id": "cff355af",
   "metadata": {},
   "outputs": [],
   "source": [
    "def train_MLP(X,y,params,seed):\n",
    "\n",
    "    X_train,y_train,X_test,y_test,X_train_scaled,X_val_scaled,X_test_scaled, y_train_scaled, y_val_scaled, y_test_scaled, X_train_tensor, y_train_tensor, X_val_tensor, y_val_tensor, X_test_tensor, y_test_tensor, y_scaler,x_scaler= splitting(X,y,seed)\n",
    "\n",
    "    model = MLP(num_units=params['module__num_units'], dropout=params['module__dropout'])\n",
    "\n",
    "    criterion = nn.MSELoss()\n",
    "    optimizer = optim.Adam(model.parameters(), lr=params['lr'])\n",
    "\n",
    "    epochs = params['max_epochs']\n",
    "    for epoch in range(epochs):\n",
    "        model.train()\n",
    "        optimizer.zero_grad()\n",
    "        outputs = model(X_train_tensor)\n",
    "        loss = criterion(outputs, y_train_tensor)\n",
    "        loss.backward()\n",
    "        optimizer.step()\n",
    "\n",
    "        model.eval()\n",
    "        with torch.no_grad():\n",
    "            val_outputs = model(X_val_tensor)\n",
    "            val_loss = criterion(val_outputs, y_val_tensor)\n",
    "\n",
    "        if (epoch + 1) % 10 == 0:\n",
    "            print(f\"Epoch [{epoch+1}/{epochs}] | Train Loss: {loss.item():.4f} | Val Loss: {val_loss.item():.4f}\")\n",
    "\n",
    "    # Final Evaluation on Test Set\n",
    "    model.eval()\n",
    "    with torch.no_grad():\n",
    "        test_outputs = model(X_test_tensor)\n",
    "        test_outputs_unscaled = y_scaler.inverse_transform(test_outputs.numpy())\n",
    "        print(\"\\nSample predictions on test set:\\n\", test_outputs_unscaled)\n",
    "    \n",
    "    return test_outputs, y_test_tensor, y_scaler\n"
   ]
  },
  {
   "cell_type": "code",
   "execution_count": 22,
   "id": "80b9c814",
   "metadata": {},
   "outputs": [
    {
     "name": "stdout",
     "output_type": "stream",
     "text": [
      "Epoch [10/100] | Train Loss: 0.9257 | Val Loss: 0.9050\n",
      "Epoch [20/100] | Train Loss: 0.8457 | Val Loss: 0.7908\n",
      "Epoch [30/100] | Train Loss: 0.7699 | Val Loss: 0.6784\n",
      "Epoch [40/100] | Train Loss: 0.6968 | Val Loss: 0.5738\n",
      "Epoch [50/100] | Train Loss: 0.6306 | Val Loss: 0.4872\n",
      "Epoch [60/100] | Train Loss: 0.5720 | Val Loss: 0.4272\n",
      "Epoch [70/100] | Train Loss: 0.5226 | Val Loss: 0.3928\n",
      "Epoch [80/100] | Train Loss: 0.4818 | Val Loss: 0.3731\n",
      "Epoch [90/100] | Train Loss: 0.4503 | Val Loss: 0.3618\n",
      "Epoch [100/100] | Train Loss: 0.4277 | Val Loss: 0.3563\n",
      "\n",
      "Sample predictions on test set:\n",
      " [[39.414448 26.539988]\n",
      " [51.396435 64.40856 ]\n",
      " [48.088844 54.28353 ]\n",
      " [48.5962   56.643963]\n",
      " [51.653545 42.154095]\n",
      " [46.34853  51.963234]\n",
      " [47.197342 46.63934 ]\n",
      " [38.100697 47.77415 ]\n",
      " [36.10136  30.192787]\n",
      " [53.722473 66.662636]\n",
      " [44.562843 47.273937]\n",
      " [52.96723  61.541256]\n",
      " [45.937767 30.30504 ]\n",
      " [45.302246 67.31389 ]\n",
      " [48.655457 59.788124]\n",
      " [50.00933  44.04806 ]\n",
      " [51.0911   48.087215]\n",
      " [53.650024 64.02008 ]\n",
      " [49.22372  42.50063 ]\n",
      " [46.697166 35.632244]\n",
      " [49.265675 40.501812]\n",
      " [53.630253 69.92029 ]\n",
      " [48.04009  41.207027]\n",
      " [39.792343 66.789894]\n",
      " [50.11381  55.53381 ]\n",
      " [55.975967 84.687256]\n",
      " [42.359383 40.017834]]\n",
      "\n",
      "R² scores per target [vo2max, weight, weeklyKM]: [0.48857045 0.39228868]\n",
      "Mean R² score across all targets: 0.44042956829071045\n"
     ]
    }
   ],
   "source": [
    "seed = 42\n",
    "test_outputs, y_test_tensor, y_scaler = train_MLP(X,y,gs_42.best_params_,seed)\n",
    "\n",
    "predictions = y_scaler.inverse_transform(test_outputs.numpy())\n",
    "ground_truth = y_scaler.inverse_transform(y_test_tensor.numpy())\n",
    "\n",
    "# Compute R² score for each output and overall\n",
    "r2 = r2_score(ground_truth, predictions, multioutput='raw_values')  # individual R²\n",
    "r2_mean = r2_score(ground_truth, predictions)  # mean R²\n",
    "\n",
    "print(\"\\nR² scores per target [vo2max, weight, weeklyKM]:\", r2)\n",
    "print(\"Mean R² score across all targets:\", r2_mean)"
   ]
  },
  {
   "cell_type": "code",
   "execution_count": 23,
   "id": "6512536e",
   "metadata": {},
   "outputs": [
    {
     "name": "stdout",
     "output_type": "stream",
     "text": [
      "Epoch [10/200] | Train Loss: 0.9665 | Val Loss: 1.0945\n",
      "Epoch [20/200] | Train Loss: 0.9322 | Val Loss: 1.0443\n",
      "Epoch [30/200] | Train Loss: 0.8762 | Val Loss: 0.9843\n",
      "Epoch [40/200] | Train Loss: 0.8467 | Val Loss: 0.9168\n",
      "Epoch [50/200] | Train Loss: 0.7578 | Val Loss: 0.8450\n",
      "Epoch [60/200] | Train Loss: 0.6669 | Val Loss: 0.7686\n",
      "Epoch [70/200] | Train Loss: 0.6543 | Val Loss: 0.7001\n",
      "Epoch [80/200] | Train Loss: 0.6300 | Val Loss: 0.6551\n",
      "Epoch [90/200] | Train Loss: 0.5216 | Val Loss: 0.6347\n",
      "Epoch [100/200] | Train Loss: 0.5141 | Val Loss: 0.6323\n",
      "Epoch [110/200] | Train Loss: 0.4870 | Val Loss: 0.6351\n",
      "Epoch [120/200] | Train Loss: 0.4665 | Val Loss: 0.6411\n",
      "Epoch [130/200] | Train Loss: 0.4007 | Val Loss: 0.6468\n",
      "Epoch [140/200] | Train Loss: 0.4708 | Val Loss: 0.6450\n",
      "Epoch [150/200] | Train Loss: 0.4539 | Val Loss: 0.6418\n",
      "Epoch [160/200] | Train Loss: 0.4245 | Val Loss: 0.6370\n",
      "Epoch [170/200] | Train Loss: 0.4349 | Val Loss: 0.6393\n",
      "Epoch [180/200] | Train Loss: 0.3831 | Val Loss: 0.6463\n",
      "Epoch [190/200] | Train Loss: 0.3669 | Val Loss: 0.6505\n",
      "Epoch [200/200] | Train Loss: 0.3853 | Val Loss: 0.6510\n",
      "\n",
      "Sample predictions on test set:\n",
      " [[55.719467 64.01751 ]\n",
      " [48.78717  48.356316]\n",
      " [51.91016  89.007545]\n",
      " [56.751812 54.95332 ]\n",
      " [56.538425 74.56558 ]\n",
      " [47.533314 62.306126]\n",
      " [57.861145 79.41208 ]\n",
      " [45.701233 36.233864]\n",
      " [40.361774 66.56822 ]\n",
      " [48.397125 73.983574]\n",
      " [51.81371  72.628395]\n",
      " [44.79965  44.536354]\n",
      " [43.060368 36.703403]\n",
      " [51.598663 51.811485]\n",
      " [51.093704 53.6543  ]\n",
      " [59.455353 68.08877 ]\n",
      " [59.902985 67.80256 ]\n",
      " [49.012325 40.05807 ]\n",
      " [38.87796  32.442616]\n",
      " [46.39433  36.484795]\n",
      " [45.117485 31.02833 ]\n",
      " [46.133816 35.603188]\n",
      " [46.476574 39.626675]\n",
      " [43.582394 35.488007]\n",
      " [37.766468 44.16016 ]\n",
      " [45.096214 62.574135]\n",
      " [58.76726  73.12479 ]]\n",
      "\n",
      "R² scores per target [vo2max, weight, weeklyKM]: [0.42239428 0.7367879 ]\n",
      "Mean R² score across all targets: 0.5795910954475403\n"
     ]
    }
   ],
   "source": [
    "seed = 20\n",
    "test_outputs, y_test_tensor, y_scaler = train_MLP(X,y,gs_35.best_params_,seed)\n",
    "\n",
    "# Unscale predictions and ground truth\n",
    "predictions = y_scaler.inverse_transform(test_outputs.numpy())\n",
    "ground_truth = y_scaler.inverse_transform(y_test_tensor.numpy())\n",
    "\n",
    "# Compute R² score for each output and overall\n",
    "r2 = r2_score(ground_truth, predictions, multioutput='raw_values')  # individual R²\n",
    "r2_mean = r2_score(ground_truth, predictions)  # mean R²\n",
    "\n",
    "print(\"\\nR² scores per target [vo2max, weight, weeklyKM]:\", r2)\n",
    "print(\"Mean R² score across all targets:\", r2_mean)"
   ]
  },
  {
   "cell_type": "code",
   "execution_count": 24,
   "id": "b9748324",
   "metadata": {},
   "outputs": [
    {
     "name": "stdout",
     "output_type": "stream",
     "text": [
      "Epoch [10/100] | Train Loss: 0.9807 | Val Loss: 1.0880\n",
      "Epoch [20/100] | Train Loss: 0.8971 | Val Loss: 1.0074\n",
      "Epoch [30/100] | Train Loss: 0.8205 | Val Loss: 0.9256\n",
      "Epoch [40/100] | Train Loss: 0.7462 | Val Loss: 0.8356\n",
      "Epoch [50/100] | Train Loss: 0.6740 | Val Loss: 0.7473\n",
      "Epoch [60/100] | Train Loss: 0.6060 | Val Loss: 0.6729\n",
      "Epoch [70/100] | Train Loss: 0.5457 | Val Loss: 0.6169\n",
      "Epoch [80/100] | Train Loss: 0.4984 | Val Loss: 0.5916\n",
      "Epoch [90/100] | Train Loss: 0.4662 | Val Loss: 0.5910\n",
      "Epoch [100/100] | Train Loss: 0.4444 | Val Loss: 0.5928\n",
      "\n",
      "Sample predictions on test set:\n",
      " [[58.671757 91.529755]\n",
      " [48.564846 62.55994 ]\n",
      " [56.67211  67.24394 ]\n",
      " [54.08416  69.03769 ]\n",
      " [47.874016 56.495155]\n",
      " [47.74811  63.83114 ]\n",
      " [49.403767 53.042156]\n",
      " [45.12547  42.8971  ]\n",
      " [41.479218 47.345024]\n",
      " [52.30327  64.498405]\n",
      " [45.974026 31.854631]\n",
      " [54.366806 82.77523 ]\n",
      " [54.17583  61.47211 ]\n",
      " [50.86432  51.550247]\n",
      " [45.175945 43.425304]\n",
      " [47.066383 48.599823]\n",
      " [48.076614 55.29405 ]\n",
      " [48.532032 49.164413]\n",
      " [38.337845 32.89944 ]\n",
      " [52.205395 42.377026]\n",
      " [42.05954  42.53391 ]\n",
      " [40.55223  31.40999 ]\n",
      " [38.967995 34.75517 ]\n",
      " [48.9195   82.70348 ]\n",
      " [46.15074  52.469475]\n",
      " [44.68163  37.49822 ]\n",
      " [54.321583 77.19561 ]]\n",
      "\n",
      "R² scores per target [vo2max, weight, weeklyKM]: [0.45207936 0.5555366 ]\n",
      "Mean R² score across all targets: 0.5038080215454102\n"
     ]
    }
   ],
   "source": [
    "seed = 35\n",
    "test_outputs, y_test_tensor, y_scaler = train_MLP(X,y,gs_20.best_params_,seed)\n",
    "\n",
    "# Unscale predictions and ground truth\n",
    "predictions = y_scaler.inverse_transform(test_outputs.numpy())\n",
    "ground_truth = y_scaler.inverse_transform(y_test_tensor.numpy())\n",
    "\n",
    "# Compute R² score for each output and overall\n",
    "r2 = r2_score(ground_truth, predictions, multioutput='raw_values')  # individual R²\n",
    "r2_mean = r2_score(ground_truth, predictions)  # mean R²\n",
    "\n",
    "print(\"\\nR² scores per target [vo2max, weight, weeklyKM]:\", r2)\n",
    "print(\"Mean R² score across all targets:\", r2_mean)"
   ]
  }
 ],
 "metadata": {
  "kernelspec": {
   "display_name": "Python 3",
   "language": "python",
   "name": "python3"
  },
  "language_info": {
   "codemirror_mode": {
    "name": "ipython",
    "version": 3
   },
   "file_extension": ".py",
   "mimetype": "text/x-python",
   "name": "python",
   "nbconvert_exporter": "python",
   "pygments_lexer": "ipython3",
   "version": "3.10.12"
  }
 },
 "nbformat": 4,
 "nbformat_minor": 5
}
