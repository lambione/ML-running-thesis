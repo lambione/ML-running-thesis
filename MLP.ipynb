{
 "cells": [
  {
   "cell_type": "markdown",
   "id": "2ca2ebdd",
   "metadata": {},
   "source": [
    "# __*MULTILAYER PERCEPTRON*__"
   ]
  },
  {
   "cell_type": "markdown",
   "id": "017f5c98",
   "metadata": {},
   "source": [
    "## __*IMPORT LIBRARIES*__"
   ]
  },
  {
   "cell_type": "code",
   "execution_count": 14,
   "id": "635ff58f",
   "metadata": {},
   "outputs": [],
   "source": [
    "import torch\n",
    "import torch.nn as nn\n",
    "import torch.optim as optim\n",
    "from sklearn.model_selection import train_test_split\n",
    "from sklearn.preprocessing import StandardScaler\n",
    "import pandas as pd\n",
    "import numpy as np\n",
    "from sklearn.metrics import r2_score"
   ]
  },
  {
   "cell_type": "code",
   "execution_count": 9,
   "id": "c60d6923",
   "metadata": {},
   "outputs": [
    {
     "data": {
      "text/html": [
       "<div>\n",
       "<style scoped>\n",
       "    .dataframe tbody tr th:only-of-type {\n",
       "        vertical-align: middle;\n",
       "    }\n",
       "\n",
       "    .dataframe tbody tr th {\n",
       "        vertical-align: top;\n",
       "    }\n",
       "\n",
       "    .dataframe thead th {\n",
       "        text-align: right;\n",
       "    }\n",
       "</style>\n",
       "<table border=\"1\" class=\"dataframe\">\n",
       "  <thead>\n",
       "    <tr style=\"text-align: right;\">\n",
       "      <th></th>\n",
       "      <th>vo2max</th>\n",
       "      <th>weight</th>\n",
       "      <th>weeklyKM</th>\n",
       "    </tr>\n",
       "  </thead>\n",
       "  <tbody>\n",
       "    <tr>\n",
       "      <th>0</th>\n",
       "      <td>59.7</td>\n",
       "      <td>70.7</td>\n",
       "      <td>65.0</td>\n",
       "    </tr>\n",
       "    <tr>\n",
       "      <th>1</th>\n",
       "      <td>46.7</td>\n",
       "      <td>71.7</td>\n",
       "      <td>110.0</td>\n",
       "    </tr>\n",
       "    <tr>\n",
       "      <th>2</th>\n",
       "      <td>62.0</td>\n",
       "      <td>66.2</td>\n",
       "      <td>90.0</td>\n",
       "    </tr>\n",
       "    <tr>\n",
       "      <th>3</th>\n",
       "      <td>61.9</td>\n",
       "      <td>67.8</td>\n",
       "      <td>65.0</td>\n",
       "    </tr>\n",
       "    <tr>\n",
       "      <th>4</th>\n",
       "      <td>50.2</td>\n",
       "      <td>68.3</td>\n",
       "      <td>12.5</td>\n",
       "    </tr>\n",
       "  </tbody>\n",
       "</table>\n",
       "</div>"
      ],
      "text/plain": [
       "   vo2max  weight  weeklyKM\n",
       "0    59.7    70.7      65.0\n",
       "1    46.7    71.7     110.0\n",
       "2    62.0    66.2      90.0\n",
       "3    61.9    67.8      65.0\n",
       "4    50.2    68.3      12.5"
      ]
     },
     "execution_count": 9,
     "metadata": {},
     "output_type": "execute_result"
    }
   ],
   "source": [
    "data = pd.read_csv('cleaned_data.csv')\n",
    "data = data.dropna(subset=['marathon_time_in_minutes']) # NOTE: dropping NaN in marathon times \n",
    "X = data[['marathon_time_in_minutes', 'height', 'age', 'HRmax', 'days', 'FFM']]\n",
    "y = data[['vo2max', 'weight', 'weeklyKM']]\n",
    "y.head()"
   ]
  },
  {
   "cell_type": "code",
   "execution_count": 10,
   "id": "30e28822",
   "metadata": {},
   "outputs": [],
   "source": [
    "# NOTE split is 70-10-20\n",
    "X_temp, X_test, y_temp, y_test = train_test_split(X, y, test_size=0.2, random_state=42)\n",
    "X_train, X_val, y_train, y_val = train_test_split(X_temp, y_temp, test_size=0.125, random_state=42)"
   ]
  },
  {
   "cell_type": "code",
   "execution_count": null,
   "id": "cff355af",
   "metadata": {},
   "outputs": [
    {
     "name": "stdout",
     "output_type": "stream",
     "text": [
      "Epoch [10/100] | Train Loss: 0.8491 | Val Loss: 0.9256\n",
      "Epoch [20/100] | Train Loss: 0.7028 | Val Loss: 0.7702\n",
      "Epoch [30/100] | Train Loss: 0.5562 | Val Loss: 0.5885\n",
      "Epoch [40/100] | Train Loss: 0.4442 | Val Loss: 0.4400\n",
      "Epoch [50/100] | Train Loss: 0.3832 | Val Loss: 0.3621\n",
      "Epoch [60/100] | Train Loss: 0.3479 | Val Loss: 0.3335\n",
      "Epoch [70/100] | Train Loss: 0.3227 | Val Loss: 0.3275\n",
      "Epoch [80/100] | Train Loss: 0.3042 | Val Loss: 0.3201\n",
      "Epoch [90/100] | Train Loss: 0.2906 | Val Loss: 0.3112\n",
      "Epoch [100/100] | Train Loss: 0.2800 | Val Loss: 0.3056\n",
      "\n",
      "Sample predictions on test set:\n",
      " [[42.51277  89.75764  28.502151]\n",
      " [50.07931  79.348625 66.083885]\n",
      " [47.99734  67.24286  63.118916]\n",
      " [46.98724  63.938183 57.438084]\n",
      " [52.227726 73.03701  30.640934]]\n"
     ]
    }
   ],
   "source": [
    "x_scaler = StandardScaler()\n",
    "y_scaler = StandardScaler()\n",
    "\n",
    "X_train_scaled = x_scaler.fit_transform(X_train)\n",
    "X_val_scaled = x_scaler.transform(X_val)\n",
    "X_test_scaled = x_scaler.transform(X_test)\n",
    "\n",
    "y_train_scaled = y_scaler.fit_transform(y_train)\n",
    "y_val_scaled = y_scaler.transform(y_val)\n",
    "y_test_scaled = y_scaler.transform(y_test)\n",
    "\n",
    "X_train_tensor = torch.tensor(X_train_scaled, dtype=torch.float32)\n",
    "y_train_tensor = torch.tensor(y_train_scaled, dtype=torch.float32)\n",
    "\n",
    "X_val_tensor = torch.tensor(X_val_scaled, dtype=torch.float32)\n",
    "y_val_tensor = torch.tensor(y_val_scaled, dtype=torch.float32)\n",
    "\n",
    "X_test_tensor = torch.tensor(X_test_scaled, dtype=torch.float32)\n",
    "y_test_tensor = torch.tensor(y_test_scaled, dtype=torch.float32)\n",
    "\n",
    "# Define model\n",
    "class MultiOutputRegressor(nn.Module):\n",
    "    def __init__(self):\n",
    "        super().__init__()\n",
    "        self.model = nn.Sequential(\n",
    "            nn.Linear(6, 64),\n",
    "            nn.ReLU(),\n",
    "            nn.Linear(64, 32),\n",
    "            nn.ReLU(),\n",
    "            nn.Linear(32, 3)\n",
    "        )\n",
    "\n",
    "    def forward(self, x):\n",
    "        return self.model(x)\n",
    "\n",
    "model = MultiOutputRegressor()\n",
    "\n",
    "# Loss and optimizer\n",
    "criterion = nn.MSELoss()\n",
    "optimizer = optim.Adam(model.parameters(), lr=0.001)\n",
    "\n",
    "# Training with validation\n",
    "epochs = 100\n",
    "for epoch in range(epochs):\n",
    "    model.train()\n",
    "    optimizer.zero_grad()\n",
    "    outputs = model(X_train_tensor)\n",
    "    loss = criterion(outputs, y_train_tensor)\n",
    "    loss.backward()\n",
    "    optimizer.step()\n",
    "\n",
    "    # Validation loss\n",
    "    model.eval()\n",
    "    with torch.no_grad():\n",
    "        val_outputs = model(X_val_tensor)\n",
    "        val_loss = criterion(val_outputs, y_val_tensor)\n",
    "\n",
    "    if (epoch + 1) % 10 == 0:\n",
    "        print(f\"Epoch [{epoch+1}/{epochs}] | Train Loss: {loss.item():.4f} | Val Loss: {val_loss.item():.4f}\")\n",
    "\n",
    "# Final Evaluation on Test Set\n",
    "model.eval()\n",
    "with torch.no_grad():\n",
    "    test_outputs = model(X_test_tensor)\n",
    "    test_outputs_unscaled = y_scaler.inverse_transform(test_outputs.numpy())\n",
    "    print(\"\\nSample predictions on test set:\\n\", test_outputs_unscaled[:5])\n"
   ]
  },
  {
   "cell_type": "code",
   "execution_count": 15,
   "id": "80b9c814",
   "metadata": {},
   "outputs": [
    {
     "name": "stdout",
     "output_type": "stream",
     "text": [
      "\n",
      "R² scores per target [vo2max, weight, weeklyKM]: [0.46953768 0.8191459  0.46256977]\n",
      "Mean R² score across all targets: 0.5837511420249939\n"
     ]
    }
   ],
   "source": [
    "\n",
    "# Unscale predictions and ground truth\n",
    "predictions = y_scaler.inverse_transform(test_outputs.numpy())\n",
    "ground_truth = y_scaler.inverse_transform(y_test_tensor.numpy())\n",
    "\n",
    "# Compute R² score for each output and overall\n",
    "r2 = r2_score(ground_truth, predictions, multioutput='raw_values')  # individual R²\n",
    "r2_mean = r2_score(ground_truth, predictions, multioutput='uniform_average')  # mean R²\n",
    "\n",
    "print(\"\\nR² scores per target [vo2max, weight, weeklyKM]:\", r2)\n",
    "print(\"Mean R² score across all targets:\", r2_mean)"
   ]
  }
 ],
 "metadata": {
  "kernelspec": {
   "display_name": "Python 3",
   "language": "python",
   "name": "python3"
  },
  "language_info": {
   "codemirror_mode": {
    "name": "ipython",
    "version": 3
   },
   "file_extension": ".py",
   "mimetype": "text/x-python",
   "name": "python",
   "nbconvert_exporter": "python",
   "pygments_lexer": "ipython3",
   "version": "3.10.12"
  }
 },
 "nbformat": 4,
 "nbformat_minor": 5
}
